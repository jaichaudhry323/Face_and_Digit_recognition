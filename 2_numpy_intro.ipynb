{
 "cells": [
  {
   "cell_type": "code",
   "execution_count": 1,
   "metadata": {},
   "outputs": [],
   "source": [
    "import numpy as np"
   ]
  },
  {
   "cell_type": "code",
   "execution_count": 11,
   "metadata": {},
   "outputs": [
    {
     "name": "stdout",
     "output_type": "stream",
     "text": [
      "[1, 2, 3, 4] <class 'list'>\n",
      "[1 2 3 4] <class 'numpy.ndarray'>\n"
     ]
    }
   ],
   "source": [
    "l=[1,2,3,4] #python list\n",
    "a=np.array([1,2,3,4])  # numpy array\n",
    "\n",
    "print(l,type(l))\n",
    "print(a,type(a))"
   ]
  },
  {
   "cell_type": "code",
   "execution_count": 15,
   "metadata": {},
   "outputs": [
    {
     "name": "stdout",
     "output_type": "stream",
     "text": [
      "[2 3 4 5]\n",
      "[ 1  4  9 16]\n",
      "[2 4 6 8]\n"
     ]
    }
   ],
   "source": [
    " # broadcsting , i.e adding 1 to all numbers\n",
    "#possible only with numpy arrays and not with list or normal arrays\n",
    "print(a+1)\n",
    "print(a**2)\n",
    "print(a*2)"
   ]
  },
  {
   "cell_type": "code",
   "execution_count": 22,
   "metadata": {},
   "outputs": [
    {
     "name": "stdout",
     "output_type": "stream",
     "text": [
      "[[1 2 3]\n",
      " [4 5 6]]\n"
     ]
    }
   ],
   "source": [
    "#creating a 2d matrix\n",
    "b=np.array([[1,2,3],[4,5,6]])\n",
    "print(b)"
   ]
  },
  {
   "cell_type": "code",
   "execution_count": 24,
   "metadata": {},
   "outputs": [
    {
     "data": {
      "text/plain": [
       "(2, 3)"
      ]
     },
     "execution_count": 24,
     "metadata": {},
     "output_type": "execute_result"
    }
   ],
   "source": [
    "b.shape   #gives rows and cols"
   ]
  },
  {
   "cell_type": "code",
   "execution_count": 36,
   "metadata": {},
   "outputs": [
    {
     "name": "stdout",
     "output_type": "stream",
     "text": [
      "[[1]\n",
      " [2]\n",
      " [3]\n",
      " [4]\n",
      " [5]\n",
      " [6]] \n",
      "\n",
      "[1 2 3 4 5 6] \n",
      "\n",
      "[[1 2]\n",
      " [3 4]\n",
      " [5 6]]\n"
     ]
    }
   ],
   "source": [
    "b=b.reshape((6,1))\n",
    "print(b,\"\\n\")\n",
    "b=b.reshape((6,))\n",
    "print(b,\"\\n\")\n",
    "b=b.reshape((3,2))\n",
    "print(b)"
   ]
  },
  {
   "cell_type": "code",
   "execution_count": 48,
   "metadata": {},
   "outputs": [
    {
     "name": "stdout",
     "output_type": "stream",
     "text": [
      "[[0 0 0 0]\n",
      " [0 5 5 0]\n",
      " [0 5 5 0]\n",
      " [0 5 5 0]\n",
      " [0 0 0 0]]\n"
     ]
    }
   ],
   "source": [
    "a=np.zeros((5,4),dtype='int')\n",
    "a[1:4,1:3]=5    # row 1 to 3 and col 1 to 2 get value 5\n",
    "print(a)\n"
   ]
  },
  {
   "cell_type": "code",
   "execution_count": 49,
   "metadata": {},
   "outputs": [
    {
     "name": "stdout",
     "output_type": "stream",
     "text": [
      "[[0 0 0 7]\n",
      " [0 5 5 7]\n",
      " [0 5 5 7]\n",
      " [0 5 5 7]\n",
      " [0 0 0 7]]\n"
     ]
    }
   ],
   "source": [
    "#a[ nothing specified so all rows will be selected : col index (x) or col range(a:b) ]\n",
    "a[ : , -1]=7\n",
    "print(a)"
   ]
  },
  {
   "cell_type": "code",
   "execution_count": 125,
   "metadata": {},
   "outputs": [
    {
     "name": "stdout",
     "output_type": "stream",
     "text": [
      "[[17 17 17 17]\n",
      " [17 17 17 17]\n",
      " [17 17 17 17]\n",
      " [17 17 17 17]\n",
      " [17 17 17 17]]\n"
     ]
    }
   ],
   "source": [
    "b=np.ones((5,4),dtype='int')*9+8\n",
    "print(b)"
   ]
  },
  {
   "cell_type": "code",
   "execution_count": 126,
   "metadata": {},
   "outputs": [
    {
     "name": "stdout",
     "output_type": "stream",
     "text": [
      "[[ 0  0  0  7]\n",
      " [ 0  5  5  7]\n",
      " [ 0  5  5  7]\n",
      " [ 0  5  5  7]\n",
      " [ 0  0  0  7]\n",
      " [17 17 17 17]\n",
      " [17 17 17 17]\n",
      " [17 17 17 17]\n",
      " [17 17 17 17]\n",
      " [17 17 17 17]]\n",
      "(10, 4)\n"
     ]
    }
   ],
   "source": [
    "#horizontal combination by hstack and vertial by vstack\n",
    "#to get transpose use .T\n",
    "c=np.vstack((a,b))          # for this to work number of cols of both a and b should be same\n",
    "print(c)                    # and in case of horizontal stack nuumber of rows should be same\n",
    "print(c.shape)"
   ]
  },
  {
   "cell_type": "code",
   "execution_count": 53,
   "metadata": {},
   "outputs": [],
   "source": [
    "arr=np.array([39,4,92,49,94])"
   ]
  },
  {
   "cell_type": "code",
   "execution_count": 56,
   "metadata": {},
   "outputs": [
    {
     "name": "stdout",
     "output_type": "stream",
     "text": [
      "94\n",
      "4\n",
      "4\n",
      "1\n"
     ]
    }
   ],
   "source": [
    "print(arr.max())\n",
    "print(arr.min())\n",
    "print(arr.argmax())    # gives index of maxm element\n",
    "print(arr.argmin())    # gives index of minm element"
   ]
  },
  {
   "cell_type": "code",
   "execution_count": 60,
   "metadata": {},
   "outputs": [
    {
     "data": {
      "text/plain": [
       "55.6"
      ]
     },
     "execution_count": 60,
     "metadata": {},
     "output_type": "execute_result"
    }
   ],
   "source": [
    "arr.mean()    # to calculate mean"
   ]
  },
  {
   "cell_type": "code",
   "execution_count": 61,
   "metadata": {},
   "outputs": [
    {
     "data": {
      "text/plain": [
       "34.003529228596264"
      ]
     },
     "execution_count": 61,
     "metadata": {},
     "output_type": "execute_result"
    }
   ],
   "source": [
    "arr.std()  #standard deviation"
   ]
  },
  {
   "cell_type": "code",
   "execution_count": 66,
   "metadata": {},
   "outputs": [
    {
     "name": "stdout",
     "output_type": "stream",
     "text": [
      "0.5911193213114688\n"
     ]
    }
   ],
   "source": [
    "no=np.random.random()\n",
    "print(no)"
   ]
  },
  {
   "cell_type": "code",
   "execution_count": 75,
   "metadata": {},
   "outputs": [
    {
     "name": "stdout",
     "output_type": "stream",
     "text": [
      "13.0\n"
     ]
    }
   ],
   "source": [
    "no=np.round(np.random.random())*5+8\n",
    "print(no)"
   ]
  },
  {
   "cell_type": "code",
   "execution_count": 95,
   "metadata": {},
   "outputs": [
    {
     "data": {
      "text/plain": [
       "array([[31, 24, 38],\n",
       "       [36, 87, 60]])"
      ]
     },
     "execution_count": 95,
     "metadata": {},
     "output_type": "execute_result"
    }
   ],
   "source": [
    "np.random.randint(10,100,size=(2,3)) # generate random number between range 10 to 100 in 2 rows and 3 cols"
   ]
  },
  {
   "cell_type": "code",
   "execution_count": 96,
   "metadata": {},
   "outputs": [
    {
     "data": {
      "text/plain": [
       "array([[-0.43350211,  0.27898648, -0.13511012],\n",
       "       [-0.19944922,  1.28881186, -1.11342592],\n",
       "       [-1.19308657,  1.51780215,  1.20341727]])"
      ]
     },
     "execution_count": 96,
     "metadata": {},
     "output_type": "execute_result"
    }
   ],
   "source": [
    "np.random.randn(3,3)     # gives normal distribution"
   ]
  },
  {
   "cell_type": "code",
   "execution_count": 131,
   "metadata": {},
   "outputs": [
    {
     "data": {
      "text/plain": [
       "array([[ 1.26960281, -0.58573805, -0.02042392, -0.54490259, -0.46287765,\n",
       "         1.27662639, -0.11212466, -0.30833392,  0.96271905, -0.60137265],\n",
       "       [-2.33496092, -0.18683143, -0.25425967, -0.8078202 , -0.2833452 ,\n",
       "        -1.4243654 ,  0.04844283,  0.82060175,  0.45151424, -0.0055187 ],\n",
       "       [-0.61558057, -0.66749379,  1.24967819, -1.43143726, -0.5618804 ,\n",
       "        -0.3852002 , -1.29899106, -0.89899234, -1.65578894, -0.19309139]])"
      ]
     },
     "execution_count": 131,
     "metadata": {},
     "output_type": "execute_result"
    }
   ],
   "source": [
    "arr=np.random.randn(10,10)\n",
    "arr[:3]"
   ]
  },
  {
   "cell_type": "code",
   "execution_count": 132,
   "metadata": {},
   "outputs": [
    {
     "data": {
      "text/plain": [
       "-0.10709385640953985"
      ]
     },
     "execution_count": 132,
     "metadata": {},
     "output_type": "execute_result"
    }
   ],
   "source": [
    "arr.mean()"
   ]
  },
  {
   "cell_type": "code",
   "execution_count": 156,
   "metadata": {},
   "outputs": [
    {
     "name": "stdout",
     "output_type": "stream",
     "text": [
      "standard deviation 1.0292971529807158\n",
      "\n",
      "[[ 1.26960281 -0.58573805 -0.02042392 -0.54490259]\n",
      " [-0.46287765  1.27662639 -0.11212466 -0.30833392]\n",
      " [ 0.96271905 -0.60137265 -2.33496092 -0.18683143]\n",
      " [-0.25425967 -0.8078202  -0.2833452  -1.4243654 ]\n",
      " [ 0.04844283  0.82060175  0.45151424 -0.0055187 ]\n",
      " [-0.61558057 -0.66749379  1.24967819 -1.43143726]\n",
      " [-0.5618804  -0.3852002  -1.29899106 -0.89899234]\n",
      " [-1.65578894 -0.19309139  1.29908823  0.30912538]\n",
      " [-1.27753525 -1.53034974 -1.83994596  0.30560323]\n",
      " [ 0.47962099 -1.07561843 -0.57550623  0.97105222]\n",
      " [-0.56790222  2.14451579  1.43348916 -0.08740316]\n",
      " [ 0.24015058  0.63408484 -1.73943292  0.67420416]\n",
      " [ 1.40678951 -1.25811715  1.21211167 -1.17748724]\n",
      " [-0.81230429 -0.172224    0.593989   -0.58808518]\n",
      " [-0.77327276  0.60927847  0.63185197 -0.84252119]\n",
      " [-0.31907015 -1.2318723  -1.41605649 -2.73875263]\n",
      " [-1.37735523 -0.40319961  0.99701841  1.66083209]\n",
      " [-0.14283604  0.77398909 -0.28458303 -1.39496211]\n",
      " [ 2.32820434 -0.45052281  0.28480997 -0.56994645]\n",
      " [-0.54688286 -1.11437893  1.2794286  -1.49807179]\n",
      " [ 0.51505897  0.31239879 -0.10033909  0.13227771]\n",
      " [ 0.30120051  2.01007607  0.67238349  0.72572959]\n",
      " [ 1.28180472 -0.8554818  -0.58242956  1.25873729]\n",
      " [-0.01911249 -1.05528589 -0.15611898 -1.66532612]\n",
      " [ 1.23056225  1.46325665  1.05311021 -0.13278386]]\n"
     ]
    },
    {
     "data": {
      "text/plain": [
       "(25, 4)"
      ]
     },
     "execution_count": 156,
     "metadata": {},
     "output_type": "execute_result"
    }
   ],
   "source": [
    "print(\"standard deviation\",arr.std()) \n",
    "print()\n",
    "arr=arr.reshape(25,-1)    # placing -1 there tells the compiler to choose the n.o of colmns accordingly\n",
    "print(arr)\n",
    "arr.shape"
   ]
  },
  {
   "cell_type": "code",
   "execution_count": 153,
   "metadata": {},
   "outputs": [
    {
     "name": "stdout",
     "output_type": "stream",
     "text": [
      "[ 1.26960281 -0.58573805 -0.02042392 -0.54490259 -0.46287765  1.27662639\n",
      " -0.11212466 -0.30833392  0.96271905 -0.60137265 -2.33496092 -0.18683143\n",
      " -0.25425967 -0.8078202  -0.2833452  -1.4243654   0.04844283  0.82060175\n",
      "  0.45151424 -0.0055187  -0.61558057 -0.66749379  1.24967819 -1.43143726\n",
      " -0.5618804  -0.3852002  -1.29899106 -0.89899234 -1.65578894 -0.19309139\n",
      "  1.29908823  0.30912538 -1.27753525 -1.53034974 -1.83994596  0.30560323\n",
      "  0.47962099 -1.07561843 -0.57550623  0.97105222 -0.56790222  2.14451579\n",
      "  1.43348916 -0.08740316  0.24015058  0.63408484 -1.73943292  0.67420416\n",
      "  1.40678951 -1.25811715  1.21211167 -1.17748724 -0.81230429 -0.172224\n",
      "  0.593989   -0.58808518 -0.77327276  0.60927847  0.63185197 -0.84252119\n",
      " -0.31907015 -1.2318723  -1.41605649 -2.73875263 -1.37735523 -0.40319961\n",
      "  0.99701841  1.66083209 -0.14283604  0.77398909 -0.28458303 -1.39496211\n",
      "  2.32820434 -0.45052281  0.28480997 -0.56994645 -0.54688286 -1.11437893\n",
      "  1.2794286  -1.49807179  0.51505897  0.31239879 -0.10033909  0.13227771\n",
      "  0.30120051  2.01007607  0.67238349  0.72572959  1.28180472 -0.8554818\n",
      " -0.58242956  1.25873729 -0.01911249 -1.05528589 -0.15611898 -1.66532612\n",
      "  1.23056225  1.46325665  1.05311021 -0.13278386]\n"
     ]
    },
    {
     "data": {
      "text/plain": [
       "(100,)"
      ]
     },
     "execution_count": 153,
     "metadata": {},
     "output_type": "execute_result"
    }
   ],
   "source": [
    "arr=arr.reshape(100,)  \n",
    "print(arr)\n",
    "arr.shape"
   ]
  },
  {
   "cell_type": "code",
   "execution_count": 107,
   "metadata": {},
   "outputs": [
    {
     "name": "stdout",
     "output_type": "stream",
     "text": [
      "9.934946957335328\n",
      "1.0333129572514062\n"
     ]
    }
   ],
   "source": [
    "# shifting mean and standard deviation ,say to 10\n",
    "arr=np.random.randn(10,10)+10\n",
    "print(arr.mean())\n",
    "print(arr.std())\n"
   ]
  },
  {
   "cell_type": "code",
   "execution_count": 112,
   "metadata": {},
   "outputs": [
    {
     "name": "stdout",
     "output_type": "stream",
     "text": [
      "(2, 3) (3, 1)\n"
     ]
    }
   ],
   "source": [
    "arr1=np.array([[1,2,3],[4,5,6]])\n",
    "arr2=np.array([[1,2,3]]).reshape(3,1)\n",
    "print(arr1.shape,arr2.shape)"
   ]
  },
  {
   "cell_type": "code",
   "execution_count": 113,
   "metadata": {},
   "outputs": [
    {
     "data": {
      "text/plain": [
       "array([[14],\n",
       "       [32]])"
      ]
     },
     "execution_count": 113,
     "metadata": {},
     "output_type": "execute_result"
    }
   ],
   "source": [
    "# TAKING DOT PRODUCT OF TWO ARRAYS\n",
    "np.dot(arr1,arr2)"
   ]
  },
  {
   "cell_type": "code",
   "execution_count": 114,
   "metadata": {},
   "outputs": [
    {
     "name": "stdout",
     "output_type": "stream",
     "text": [
      "[ 0.84147098  0.90929743  0.14112001 -0.7568025 ]\n",
      "[0.         0.69314718 1.09861229 1.38629436]\n"
     ]
    }
   ],
   "source": [
    "arr1=np.array([1,2,3,4])\n",
    "\n",
    "print(np.sin(arr1))\n",
    "print(np.log(arr1))"
   ]
  },
  {
   "cell_type": "code",
   "execution_count": 122,
   "metadata": {},
   "outputs": [
    {
     "name": "stdout",
     "output_type": "stream",
     "text": [
      "[[47 17 40 37 74]\n",
      " [19 12  7 83 59]\n",
      " [43 72  0 96 64]\n",
      " [57 56  6 27 44]\n",
      " [21 35 52 74 63]]\n"
     ]
    },
    {
     "data": {
      "text/plain": [
       "array([[-0.08507632,  0.09390426, -0.11375478,  0.12820459,  0.03800953],\n",
       "       [ 0.03380984, -0.05718243,  0.06003419, -0.04946336, -0.01260262],\n",
       "       [-0.03507067,  0.022731  , -0.04771987,  0.04328338,  0.03815403],\n",
       "       [-0.05961389,  0.06003073, -0.05973702,  0.06296928,  0.03051009],\n",
       "       [ 0.10854541, -0.08880778,  0.11412105, -0.12494509, -0.05712484]])"
      ]
     },
     "execution_count": 122,
     "metadata": {},
     "output_type": "execute_result"
    }
   ],
   "source": [
    "arr1=np.random.randint(0,100,size=(5,5))\n",
    "print(arr1)\n",
    "np.linalg.inv(arr1)   # finding inverse of matrix arr1"
   ]
  },
  {
   "cell_type": "code",
   "execution_count": null,
   "metadata": {},
   "outputs": [],
   "source": []
  }
 ],
 "metadata": {
  "kernelspec": {
   "display_name": "Python 3",
   "language": "python",
   "name": "python3"
  },
  "language_info": {
   "codemirror_mode": {
    "name": "ipython",
    "version": 3
   },
   "file_extension": ".py",
   "mimetype": "text/x-python",
   "name": "python",
   "nbconvert_exporter": "python",
   "pygments_lexer": "ipython3",
   "version": "3.7.3"
  }
 },
 "nbformat": 4,
 "nbformat_minor": 2
}
