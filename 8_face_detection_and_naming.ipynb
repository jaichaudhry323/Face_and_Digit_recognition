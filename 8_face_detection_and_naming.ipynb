{
 "cells": [
  {
   "cell_type": "code",
   "execution_count": 14,
   "metadata": {},
   "outputs": [],
   "source": [
    "import matplotlib.pyplot as plt\n",
    "import numpy as np\n",
    "import pandas as pd\n",
    "import cv2\n",
    "import os"
   ]
  },
  {
   "cell_type": "code",
   "execution_count": 15,
   "metadata": {},
   "outputs": [],
   "source": [
    "def dist(v1,v2):\n",
    "    return np.sqrt(np.sum((v1-v2)**2))\n"
   ]
  },
  {
   "cell_type": "code",
   "execution_count": 16,
   "metadata": {},
   "outputs": [],
   "source": [
    "def knn(X,Y,query_point,k=5):\n",
    "    m=X.shape[0]             # n.o of points in training dataset \n",
    "    distances=[]             # calculate distance of all points with query point\n",
    "    for i in range(m):           # for each point\n",
    "        d=dist(query_point,X[i])\n",
    "        distances.append((d,Y[i]))      # appending label too to be able to tell which distance is for dog and which is for cat\n",
    "    \n",
    "    distances=sorted(distances)[:k]      # take first k elements  , writing nothing onleft of semicolon means its 0 by default\n",
    "    distances=np.array(distances)        # convert list to array so that we can apply np operations\n",
    "    labels=distances[:,1]                #  select all rows and second colmn\n",
    "    labels,freq=np.unique(labels,return_counts=True)    # return 2 arrays see below example\n",
    "    pred=labels[np.argmax(freq)]                        # take the highest freq class \n",
    "    return int(pred)"
   ]
  },
  {
   "cell_type": "code",
   "execution_count": 17,
   "metadata": {},
   "outputs": [
    {
     "name": "stdout",
     "output_type": "stream",
     "text": [
      "(20, 100, 100, 3) jai.npy\n"
     ]
    }
   ],
   "source": [
    "files=os.listdir()\n",
    "d={}\n",
    "cnt=0\n",
    "X=[]\n",
    "Y=[]\n",
    "\n",
    "for f in files:\n",
    "    if f.endswith(\".npy\"):\n",
    "        data=np.load(f)\n",
    "        print(data.shape,f)\n",
    "        labels=np.ones((data.shape[0],1))*cnt;\n",
    "        \n",
    "        X.append(data)\n",
    "        Y.append(labels)\n",
    "        d[cnt]=f[:-4]    # slice the string , i.e the file name\n",
    "        cnt+=1\n",
    "        "
   ]
  },
  {
   "cell_type": "code",
   "execution_count": 18,
   "metadata": {},
   "outputs": [
    {
     "name": "stdout",
     "output_type": "stream",
     "text": [
      "(20, 100, 100, 3) (20,)\n"
     ]
    }
   ],
   "source": [
    "X = np.vstack(X)\n",
    "Y = np.vstack(Y)\n",
    "Y = Y.reshape((20,))\n",
    "print(X.shape,Y.shape)"
   ]
  },
  {
   "cell_type": "code",
   "execution_count": 19,
   "metadata": {},
   "outputs": [],
   "source": [
    "cam=cv2.VideoCapture(0)                  # camera object captured , later it will have to be released \n",
    "detector=cv2.CascadeClassifier(\"haarcascade_frontalface_alt.xml\")\n",
    "\n",
    "while True:                         # so that we will break from loop oce we cut the webcam window\n",
    "    ret,frame=cam.read()\n",
    "    \n",
    "    if ret==False:                  # ret is what it receives from webcam\n",
    "        continue\n",
    "        \n",
    "    faces=detector.detectMultiScale(frame,1.3,5)\n",
    "    \n",
    "    if(len(faces)==0):\n",
    "        continue               # no face detected\n",
    "    \n",
    "    for face in faces:\n",
    "        x,y,w,h=face\n",
    "        cv2.rectangle(frame,(x,y),(x+w,y+h),(0,255,0),2)    #frame= removed\n",
    "        cropped_face=frame[y:y+h,x:x+w]\n",
    "        cropped_face=cv2.resize(cropped_face,(100,100))\n",
    "        #Find out the name of the face\n",
    "        pred=knn(X,Y,cropped_face,k=5)\n",
    "        pred_name=d[pred]\n",
    "        cv2.putText(frame,pred_name,(x,y-10),cv2.FONT_HERSHEY_SIMPLEX,1.0,(255,255,255),lineType=cv2.LINE_AA)\n",
    "        \n",
    "    cv2.imshow(\"frame\",frame)\n",
    "    \n",
    "    key_pressed=cv2.waitKey(1) & 0xFF\n",
    "    \n",
    "    if(key_pressed==ord('e')):\n",
    "        break\n",
    "                                  # to explicitly break from the loop\n",
    "\n",
    "cam.release()                   # release webcam\n",
    "cv2.destroyAllWindows()  "
   ]
  },
  {
   "cell_type": "code",
   "execution_count": null,
   "metadata": {},
   "outputs": [],
   "source": []
  }
 ],
 "metadata": {
  "kernelspec": {
   "display_name": "Python 3",
   "language": "python",
   "name": "python3"
  },
  "language_info": {
   "codemirror_mode": {
    "name": "ipython",
    "version": 3
   },
   "file_extension": ".py",
   "mimetype": "text/x-python",
   "name": "python",
   "nbconvert_exporter": "python",
   "pygments_lexer": "ipython3",
   "version": "3.7.4"
  }
 },
 "nbformat": 4,
 "nbformat_minor": 2
}
