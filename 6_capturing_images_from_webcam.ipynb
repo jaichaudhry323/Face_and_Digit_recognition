{
 "cells": [
  {
   "cell_type": "code",
   "execution_count": 8,
   "metadata": {},
   "outputs": [],
   "source": [
    "import matplotlib.pyplot as plt\n",
    "import cv2\n",
    "import numpy as np"
   ]
  },
  {
   "cell_type": "code",
   "execution_count": 5,
   "metadata": {},
   "outputs": [],
   "source": [
    "cam=cv2.VideoCapture(0)                  # camera object captured , later it will have to be released \n",
    "detector=cv2.CascadeClassifier(\"haarcascade_frontalface_alt.xml\")"
   ]
  },
  {
   "cell_type": "code",
   "execution_count": 6,
   "metadata": {},
   "outputs": [
    {
     "name": "stdout",
     "output_type": "stream",
     "text": [
      "enter the name of [person getting clicked : rakhi\n",
      "saving face 1\n",
      "saving face 2\n",
      "saving face 3\n",
      "saving face 4\n",
      "saving face 5\n",
      "saving face 6\n",
      "saving face 7\n",
      "saving face 8\n",
      "saving face 9\n",
      "saving face 10\n",
      "saving face 11\n",
      "saving face 12\n",
      "saving face 13\n",
      "saving face 14\n",
      "saving face 15\n",
      "saving face 16\n",
      "saving face 17\n",
      "saving face 18\n",
      "saving face 19\n",
      "saving face 20\n",
      "breaking\n"
     ]
    }
   ],
   "source": [
    "name=input(\"enter the name of [person getting clicked : \")\n",
    "pics=[]\n",
    "cnt=0\n",
    "\n",
    "\n",
    "while True:                         # so that we will break from loop oce we cut the webcam window\n",
    "    ret,frame=cam.read()\n",
    "    \n",
    "    if ret==False:                  # ret is what it receives from webcam\n",
    "        continue\n",
    "        \n",
    "    faces=detector.detectMultiScale(frame,1.3,5)\n",
    "    \n",
    "    if(len(faces)==0):\n",
    "        continue               # no face detected\n",
    "    \n",
    "\n",
    "    x,y,w,h=faces[0]\n",
    "    frame=cv2.rectangle(frame,(x,y),(x+w,y+h),(0,255,0),2)    # modify frame , the 2 denotes the width of the reatcngle line\n",
    "    #modification crop and save that part of the face for training data\n",
    "    cnt+=1\n",
    "\n",
    "    if cnt%10==0:\n",
    "        cropped_face=frame[y:y+h,x:x+w]\n",
    "        cropped_face=cv2.resize(cropped_face,(100,100))\n",
    "        pics.append(cropped_face)\n",
    "        #print(len(pics))\n",
    "        print(\"saving face %d\"%(cnt/10))\n",
    "        if(len(pics)==20):\n",
    "            print(\"breaking\")\n",
    "            break\n",
    "        \n",
    "    cv2.imshow(\"frame\",frame)\n",
    "    \n",
    "    key_pressed=cv2.waitKey(1) & 0xFF\n",
    "    \n",
    "    if(key_pressed==ord('e')):\n",
    "        break\n",
    "                                  # to explicitly break from the loop\n",
    "\n",
    "cam.release()                   # release webcam\n",
    "cv2.destroyAllWindows()  "
   ]
  },
  {
   "cell_type": "code",
   "execution_count": 7,
   "metadata": {},
   "outputs": [],
   "source": [
    "data=np.array(pics)\n",
    "np.save(name+\".npy\",data)"
   ]
  },
  {
   "cell_type": "code",
   "execution_count": null,
   "metadata": {},
   "outputs": [],
   "source": [
    "\n"
   ]
  },
  {
   "cell_type": "code",
   "execution_count": null,
   "metadata": {},
   "outputs": [],
   "source": []
  }
 ],
 "metadata": {
  "kernelspec": {
   "display_name": "Python 3",
   "language": "python",
   "name": "python3"
  },
  "language_info": {
   "codemirror_mode": {
    "name": "ipython",
    "version": 3
   },
   "file_extension": ".py",
   "mimetype": "text/x-python",
   "name": "python",
   "nbconvert_exporter": "python",
   "pygments_lexer": "ipython3",
   "version": "3.7.4"
  }
 },
 "nbformat": 4,
 "nbformat_minor": 2
}
