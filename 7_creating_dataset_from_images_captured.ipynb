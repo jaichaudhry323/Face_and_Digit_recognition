{
 "cells": [
  {
   "cell_type": "code",
   "execution_count": 11,
   "metadata": {},
   "outputs": [],
   "source": [
    "import os\n",
    "import numpy as np"
   ]
  },
  {
   "cell_type": "code",
   "execution_count": 12,
   "metadata": {},
   "outputs": [
    {
     "data": {
      "text/plain": [
       "['.ipynb_checkpoints',\n",
       " 'capturing_images.ipynb',\n",
       " 'children.jpg',\n",
       " 'creating_dataset_from_images_captured.ipynb',\n",
       " 'Datasets',\n",
       " 'dtu_ml_workshop-master',\n",
       " 'face_detection.ipynb',\n",
       " 'haarcascade_frontalface_alt.xml',\n",
       " 'jai.npy',\n",
       " 'knn-on-cat-dog-0-1-dataset-X-Y-then-MNIST-Dataset.ipynb',\n",
       " 'matplotlib_intro.ipynb',\n",
       " 'numpy_intro.ipynb',\n",
       " 'pokemon.jpg',\n",
       " 'python_basics.ipynb']"
      ]
     },
     "execution_count": 12,
     "metadata": {},
     "output_type": "execute_result"
    }
   ],
   "source": [
    "os.listdir()"
   ]
  },
  {
   "cell_type": "code",
   "execution_count": 22,
   "metadata": {},
   "outputs": [
    {
     "name": "stdout",
     "output_type": "stream",
     "text": [
      "(20, 100, 100, 3) jai.npy\n",
      "(20, 100, 100, 3) rakhi.npy\n"
     ]
    }
   ],
   "source": [
    "files=os.listdir()\n",
    "d={}\n",
    "cnt=0\n",
    "X=[]\n",
    "Y=[]\n",
    "\n",
    "for f in files:\n",
    "    if f.endswith(\".npy\"):\n",
    "        data=np.load(f)\n",
    "        print(data.shape,f)\n",
    "        labels=np.ones((data.shape[0],1))*cnt;\n",
    "        \n",
    "        X.append(data)\n",
    "        Y.append(labels)\n",
    "        d[cnt]=f[:-4]    # slice the string , i.e the file name\n",
    "        cnt+=1"
   ]
  },
  {
   "cell_type": "code",
   "execution_count": 23,
   "metadata": {},
   "outputs": [
    {
     "name": "stdout",
     "output_type": "stream",
     "text": [
      "(40, 100, 100, 3)\n",
      "(40, 1)\n"
     ]
    }
   ],
   "source": [
    "X=np.vstack(X)\n",
    "Y=np.vstack(Y)\n",
    "print(X.shape)\n",
    "print(Y.shape)"
   ]
  },
  {
   "cell_type": "code",
   "execution_count": 21,
   "metadata": {},
   "outputs": [],
   "source": [
    "Y=Y.reshape((20,))  # to create a single dataset , 20bcoz there are only one persons images i.e 20"
   ]
  },
  {
   "cell_type": "code",
   "execution_count": null,
   "metadata": {},
   "outputs": [],
   "source": []
  }
 ],
 "metadata": {
  "kernelspec": {
   "display_name": "Python 3",
   "language": "python",
   "name": "python3"
  },
  "language_info": {
   "codemirror_mode": {
    "name": "ipython",
    "version": 3
   },
   "file_extension": ".py",
   "mimetype": "text/x-python",
   "name": "python",
   "nbconvert_exporter": "python",
   "pygments_lexer": "ipython3",
   "version": "3.7.4"
  }
 },
 "nbformat": 4,
 "nbformat_minor": 2
}
